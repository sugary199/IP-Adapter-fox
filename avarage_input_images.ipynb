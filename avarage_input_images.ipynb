{
 "cells": [
  {
   "cell_type": "code",
   "execution_count": null,
   "metadata": {},
   "outputs": [],
   "source": [
    "import torch\n",
    "from diffusers import StableDiffusionXLControlNetPipeline, ControlNetModel, StableDiffusionXLPipeline\n",
    "from PIL import Image\n",
    "\n",
    "from ip_adapter import IPAdapterXL\n",
    "from numpy.random import randint\n",
    "\n",
    "base_model_path = \"/ML-A100/team/mm/wangtao/share/models/stable-diffusion-xl-base-1.0\"\n",
    "image_encoder_path = \"models/image_encoder\"\n",
    "ip_ckpt = \"sdxl_models/ip-adapter_sdxl_vit-h.bin\"\n",
    "device = \"cuda\"\n",
    "\n",
    "# load SDXL pipeline\n",
    "pipe = StableDiffusionXLPipeline.from_pretrained(\n",
    "    base_model_path,\n",
    "    torch_dtype=torch.float16,\n",
    "    add_watermarker=False,\n",
    ")\n",
    "\n",
    "# load ip-adapter\n",
    "ip_model = IPAdapterXL(pipe, image_encoder_path, ip_ckpt, device)\n",
    "\n"
   ]
  },
  {
   "cell_type": "code",
   "execution_count": null,
   "metadata": {},
   "outputs": [],
   "source": [
    "def image_grid(imgs, rows, cols):\n",
    "    assert len(imgs) == rows*cols\n",
    "\n",
    "    w, h = imgs[0].size\n",
    "    grid = Image.new('RGB', size=(cols*w, rows*h))\n",
    "    grid_w, grid_h = grid.size\n",
    "    \n",
    "    for i, img in enumerate(imgs):\n",
    "        grid.paste(img, box=(i%cols*w, i//cols*h))\n",
    "    return grid\n",
    "\n",
    "# read image prompt\n",
    "image_paths=[\"/ML-A100/team/mm/shuyu/IP-Adapter-fox/assets/images/woman.png\",\"/ML-A100/team/mm/shuyu/IP-Adapter-fox/assets/images/woman1.jpg\"]\n",
    "input_images=[Image.open(path) for path in image_paths]\n",
    "for i,image in enumerate(input_images):\n",
    "    if image.mode=='RGBA':\n",
    "        input_images[i]=image.convert('RGB')\n",
    "    input_images[i]=image.resize((512,512))\n",
    "grid=image_grid(input_images,1,len(input_images))\n",
    "grid"
   ]
  },
  {
   "cell_type": "code",
   "execution_count": null,
   "metadata": {},
   "outputs": [],
   "source": [
    "\n",
    "# multimodal prompts\n",
    "num_samples = 3\n",
    "random_seed = randint(0, 2**32 - 1)\n",
    "images = ip_model.generate(pil_image=input_images, num_samples=num_samples, num_inference_steps=30, seed=random_seed,\n",
    "        prompt=\"A girl looks back\", scale=0.6)\n",
    "print(len(images))\n",
    "grid = image_grid(images, 1, len(images))\n",
    "grid"
   ]
  }
 ],
 "metadata": {
  "language_info": {
   "name": "python"
  }
 },
 "nbformat": 4,
 "nbformat_minor": 2
}
